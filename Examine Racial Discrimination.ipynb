{
 "cells": [
  {
   "cell_type": "markdown",
   "metadata": {},
   "source": [
    "# Examining Racial Discrimination in the US Job Market\n",
    "\n",
    "### Background\n",
    "Racial discrimination continues to be pervasive in cultures throughout the world. Researchers examined the level of racial discrimination in the United States labor market by randomly assigning identical résumés to black-sounding or white-sounding names and observing the impact on requests for interviews from employers.\n",
    "\n",
    "### Data\n",
    "In the dataset provided, each row represents a resume. The 'race' column has two values, 'b' and 'w', indicating black-sounding and white-sounding. The column 'call' has two values, 1 and 0, indicating whether the resume received a call from employers or not.\n",
    "\n",
    "Note that the 'b' and 'w' values in race are assigned randomly to the resumes when presented to the employer."
   ]
  },
  {
   "cell_type": "markdown",
   "metadata": {},
   "source": [
    "### Exercises\n",
    "You will perform a statistical analysis to establish whether race has a significant impact on the rate of callbacks for resumes.\n",
    "\n",
    "Answer the following questions **in this notebook below and submit to your Github account**. \n",
    "\n",
    "   1. What test is appropriate for this problem? Does CLT apply?\n",
    "   2. What are the null and alternate hypotheses?\n",
    "   3. Compute margin of error, confidence interval, and p-value. Try using both the bootstrapping and the frequentist statistical approaches.\n",
    "   4. Write a story describing the statistical significance in the context or the original problem.\n",
    "   5. Does your analysis mean that race/name is the most important factor in callback success? Why or why not? If not, how would you amend your analysis?\n",
    "\n",
    "You can include written notes in notebook cells using Markdown: \n",
    "   - In the control panel at the top, choose Cell > Cell Type > Markdown\n",
    "   - Markdown syntax: http://nestacms.com/docs/creating-content/markdown-cheat-sheet\n",
    "\n",
    "#### Resources\n",
    "+ Experiment information and data source: http://www.povertyactionlab.org/evaluation/discrimination-job-market-united-states\n",
    "+ Scipy statistical methods: http://docs.scipy.org/doc/scipy/reference/stats.html \n",
    "+ Markdown syntax: http://nestacms.com/docs/creating-content/markdown-cheat-sheet\n",
    "+ Formulas for the Bernoulli distribution: https://en.wikipedia.org/wiki/Bernoulli_distribution"
   ]
  },
  {
   "cell_type": "code",
   "execution_count": 12,
   "metadata": {},
   "outputs": [],
   "source": [
    "import pandas as pd\n",
    "import numpy as np\n",
    "from scipy import stats\n"
   ]
  },
  {
   "cell_type": "code",
   "execution_count": 14,
   "metadata": {},
   "outputs": [],
   "source": [
    "data = pd.io.stata.read_stata('us_job_market_discrimination.dta')"
   ]
  },
  {
   "cell_type": "code",
   "execution_count": 15,
   "metadata": {},
   "outputs": [
    {
     "data": {
      "text/plain": [
       "235.0"
      ]
     },
     "execution_count": 15,
     "metadata": {},
     "output_type": "execute_result"
    }
   ],
   "source": [
    "# number of callbacks for black-sounding names\n",
    "sum(data[data.race=='w'].call)"
   ]
  },
  {
   "cell_type": "code",
   "execution_count": 16,
   "metadata": {},
   "outputs": [
    {
     "data": {
      "text/html": [
       "<div>\n",
       "<style scoped>\n",
       "    .dataframe tbody tr th:only-of-type {\n",
       "        vertical-align: middle;\n",
       "    }\n",
       "\n",
       "    .dataframe tbody tr th {\n",
       "        vertical-align: top;\n",
       "    }\n",
       "\n",
       "    .dataframe thead th {\n",
       "        text-align: right;\n",
       "    }\n",
       "</style>\n",
       "<table border=\"1\" class=\"dataframe\">\n",
       "  <thead>\n",
       "    <tr style=\"text-align: right;\">\n",
       "      <th></th>\n",
       "      <th>id</th>\n",
       "      <th>ad</th>\n",
       "      <th>education</th>\n",
       "      <th>ofjobs</th>\n",
       "      <th>yearsexp</th>\n",
       "      <th>honors</th>\n",
       "      <th>volunteer</th>\n",
       "      <th>military</th>\n",
       "      <th>empholes</th>\n",
       "      <th>occupspecific</th>\n",
       "      <th>...</th>\n",
       "      <th>compreq</th>\n",
       "      <th>orgreq</th>\n",
       "      <th>manuf</th>\n",
       "      <th>transcom</th>\n",
       "      <th>bankreal</th>\n",
       "      <th>trade</th>\n",
       "      <th>busservice</th>\n",
       "      <th>othservice</th>\n",
       "      <th>missind</th>\n",
       "      <th>ownership</th>\n",
       "    </tr>\n",
       "  </thead>\n",
       "  <tbody>\n",
       "    <tr>\n",
       "      <th>0</th>\n",
       "      <td>b</td>\n",
       "      <td>1</td>\n",
       "      <td>4</td>\n",
       "      <td>2</td>\n",
       "      <td>6</td>\n",
       "      <td>0</td>\n",
       "      <td>0</td>\n",
       "      <td>0</td>\n",
       "      <td>1</td>\n",
       "      <td>17</td>\n",
       "      <td>...</td>\n",
       "      <td>1.0</td>\n",
       "      <td>0.0</td>\n",
       "      <td>1.0</td>\n",
       "      <td>0.0</td>\n",
       "      <td>0.0</td>\n",
       "      <td>0.0</td>\n",
       "      <td>0.0</td>\n",
       "      <td>0.0</td>\n",
       "      <td>0.0</td>\n",
       "      <td></td>\n",
       "    </tr>\n",
       "    <tr>\n",
       "      <th>1</th>\n",
       "      <td>b</td>\n",
       "      <td>1</td>\n",
       "      <td>3</td>\n",
       "      <td>3</td>\n",
       "      <td>6</td>\n",
       "      <td>0</td>\n",
       "      <td>1</td>\n",
       "      <td>1</td>\n",
       "      <td>0</td>\n",
       "      <td>316</td>\n",
       "      <td>...</td>\n",
       "      <td>1.0</td>\n",
       "      <td>0.0</td>\n",
       "      <td>1.0</td>\n",
       "      <td>0.0</td>\n",
       "      <td>0.0</td>\n",
       "      <td>0.0</td>\n",
       "      <td>0.0</td>\n",
       "      <td>0.0</td>\n",
       "      <td>0.0</td>\n",
       "      <td></td>\n",
       "    </tr>\n",
       "    <tr>\n",
       "      <th>2</th>\n",
       "      <td>b</td>\n",
       "      <td>1</td>\n",
       "      <td>4</td>\n",
       "      <td>1</td>\n",
       "      <td>6</td>\n",
       "      <td>0</td>\n",
       "      <td>0</td>\n",
       "      <td>0</td>\n",
       "      <td>0</td>\n",
       "      <td>19</td>\n",
       "      <td>...</td>\n",
       "      <td>1.0</td>\n",
       "      <td>0.0</td>\n",
       "      <td>1.0</td>\n",
       "      <td>0.0</td>\n",
       "      <td>0.0</td>\n",
       "      <td>0.0</td>\n",
       "      <td>0.0</td>\n",
       "      <td>0.0</td>\n",
       "      <td>0.0</td>\n",
       "      <td></td>\n",
       "    </tr>\n",
       "    <tr>\n",
       "      <th>3</th>\n",
       "      <td>b</td>\n",
       "      <td>1</td>\n",
       "      <td>3</td>\n",
       "      <td>4</td>\n",
       "      <td>6</td>\n",
       "      <td>0</td>\n",
       "      <td>1</td>\n",
       "      <td>0</td>\n",
       "      <td>1</td>\n",
       "      <td>313</td>\n",
       "      <td>...</td>\n",
       "      <td>1.0</td>\n",
       "      <td>0.0</td>\n",
       "      <td>1.0</td>\n",
       "      <td>0.0</td>\n",
       "      <td>0.0</td>\n",
       "      <td>0.0</td>\n",
       "      <td>0.0</td>\n",
       "      <td>0.0</td>\n",
       "      <td>0.0</td>\n",
       "      <td></td>\n",
       "    </tr>\n",
       "    <tr>\n",
       "      <th>4</th>\n",
       "      <td>b</td>\n",
       "      <td>1</td>\n",
       "      <td>3</td>\n",
       "      <td>3</td>\n",
       "      <td>22</td>\n",
       "      <td>0</td>\n",
       "      <td>0</td>\n",
       "      <td>0</td>\n",
       "      <td>0</td>\n",
       "      <td>313</td>\n",
       "      <td>...</td>\n",
       "      <td>1.0</td>\n",
       "      <td>1.0</td>\n",
       "      <td>0.0</td>\n",
       "      <td>0.0</td>\n",
       "      <td>0.0</td>\n",
       "      <td>0.0</td>\n",
       "      <td>0.0</td>\n",
       "      <td>1.0</td>\n",
       "      <td>0.0</td>\n",
       "      <td>Nonprofit</td>\n",
       "    </tr>\n",
       "  </tbody>\n",
       "</table>\n",
       "<p>5 rows × 65 columns</p>\n",
       "</div>"
      ],
      "text/plain": [
       "  id ad  education  ofjobs  yearsexp  honors  volunteer  military  empholes  \\\n",
       "0  b  1          4       2         6       0          0         0         1   \n",
       "1  b  1          3       3         6       0          1         1         0   \n",
       "2  b  1          4       1         6       0          0         0         0   \n",
       "3  b  1          3       4         6       0          1         0         1   \n",
       "4  b  1          3       3        22       0          0         0         0   \n",
       "\n",
       "   occupspecific  ...  compreq  orgreq  manuf  transcom  bankreal trade  \\\n",
       "0             17  ...      1.0     0.0    1.0       0.0       0.0   0.0   \n",
       "1            316  ...      1.0     0.0    1.0       0.0       0.0   0.0   \n",
       "2             19  ...      1.0     0.0    1.0       0.0       0.0   0.0   \n",
       "3            313  ...      1.0     0.0    1.0       0.0       0.0   0.0   \n",
       "4            313  ...      1.0     1.0    0.0       0.0       0.0   0.0   \n",
       "\n",
       "  busservice othservice  missind  ownership  \n",
       "0        0.0        0.0      0.0             \n",
       "1        0.0        0.0      0.0             \n",
       "2        0.0        0.0      0.0             \n",
       "3        0.0        0.0      0.0             \n",
       "4        0.0        1.0      0.0  Nonprofit  \n",
       "\n",
       "[5 rows x 65 columns]"
      ]
     },
     "execution_count": 16,
     "metadata": {},
     "output_type": "execute_result"
    }
   ],
   "source": [
    "data.head()"
   ]
  },
  {
   "cell_type": "markdown",
   "metadata": {
    "collapsed": true
   },
   "source": [
    "Question: 1. What test is appropriate for this problem? Does CLT apply?\n",
    "The statement is about comparing two segments and their proportion of success and failures. It is therefore appropriate to use significance testing as we are comparing the two proportions.\n",
    "\n",
    "Central limit theorem applies in this case. As long as we have a discrete distribution.\n",
    "\n",
    "Question: 2. What are the null and alternate hypotheses?\n",
    "\n",
    "Null Hypothesis: Proportion(white call) = Proportion(black call)\n",
    "Alternative Hypothesis: Proportion(white call) != Proportion(black call)\n",
    "We can interpret the null hypothesis as the difference between the two success proportions is zero."
   ]
  },
  {
   "cell_type": "code",
   "execution_count": 17,
   "metadata": {},
   "outputs": [],
   "source": [
    "w = data[data.race=='w']\n",
    "b = data[data.race=='b']"
   ]
  },
  {
   "cell_type": "code",
   "execution_count": 7,
   "metadata": {
    "collapsed": true
   },
   "outputs": [],
   "source": [
    "# Question: 3. Compute margin of error, confidence interval, and p-value. "
   ]
  },
  {
   "cell_type": "code",
   "execution_count": 18,
   "metadata": {},
   "outputs": [
    {
     "name": "stdout",
     "output_type": "stream",
     "text": [
      "Critical value: 0.05\n",
      "Proportion of white call: 9.65%\n",
      "Proportion of black call: 6.45%\n"
     ]
    }
   ],
   "source": [
    "import scipy.stats as stats\n",
    "\n",
    "alpha = 0.05\n",
    "\n",
    "w_size = len(w)\n",
    "b_size = len(b)\n",
    "\n",
    "w_successrate = len(w[w[\"call\"] == 1]) / w_size\n",
    "b_successrate = len(b[b[\"call\"] == 1]) / b_size\n",
    "\n",
    "print(\"Critical value: %.2f\" % alpha)\n",
    "print(\"Proportion of white call: %.2f%%\" \\\n",
    "      % (w_successrate*100))\n",
    "print(\"Proportion of black call: %.2f%%\" \\\n",
    "      % (b_successrate*100))"
   ]
  },
  {
   "cell_type": "code",
   "execution_count": 20,
   "metadata": {},
   "outputs": [
    {
     "name": "stdout",
     "output_type": "stream",
     "text": [
      "Sample proportion: 0.080%\n",
      "Standard Error: 0.008%\n",
      "Z-statistic: 4.108%\n"
     ]
    }
   ],
   "source": [
    "prop = (w_successrate*w_size + b_successrate*b_size) \\\n",
    "                / (w_size + b_size)\n",
    "\n",
    "SError = (prop * (1-prop) \\\n",
    "     * ((1/w_size) + (1/b_size)))**0.5\n",
    "\n",
    "z = (w_successrate - b_successrate) / SError\n",
    "\n",
    "print(\"Sample proportion: %.3f%%\" % prop)\n",
    "print(\"Standard Error: %.3f%%\" % SError)\n",
    "print(\"Z-statistic: %.3f%%\" % z)"
   ]
  },
  {
   "cell_type": "code",
   "execution_count": 21,
   "metadata": {},
   "outputs": [
    {
     "name": "stdout",
     "output_type": "stream",
     "text": [
      "P-value: 0.00002\n",
      "\n",
      "P-Value greater than alpha? False\n",
      "Proportion of the segments ARE different\n"
     ]
    }
   ],
   "source": [
    "p = stats.norm.sf(abs(z))\n",
    "\n",
    "print(\"P-value: %.5f\\n\" % p)\n",
    "print(\"P-Value greater than alpha? %s\" % str(p > alpha))\n",
    "if p > alpha:\n",
    "    print(\"Proportion of the segments are NOT different\")\n",
    "else:\n",
    "    print(\"Proportion of the segments ARE different\")"
   ]
  },
  {
   "cell_type": "code",
   "execution_count": 22,
   "metadata": {},
   "outputs": [
    {
     "name": "stdout",
     "output_type": "stream",
     "text": [
      "Difference in proportion between the segments : 3.2%\n"
     ]
    }
   ],
   "source": [
    "prop_diff = w_successrate - b_successrate\n",
    "\n",
    "print(\"Difference in proportion between the segments : %.1f%%\" \\\n",
    "      % (prop_diff*100))"
   ]
  },
  {
   "cell_type": "code",
   "execution_count": 25,
   "metadata": {},
   "outputs": [
    {
     "name": "stdout",
     "output_type": "stream",
     "text": [
      "Confidence Interval: 0.015\n",
      "\n",
      "True proportion difference is between 1.68% and 4.73%.\n",
      "We will take the bootstrap approach. We will test our hypothesis by assuming that our the null hypothesis is true.\n"
     ]
    }
   ],
   "source": [
    "conf_level = 0.95\n",
    "\n",
    "dist = stats.norm.ppf((1+conf_level)/2)\n",
    "std_dev_diff = ((w_successrate *(1-w_successrate))/w_size \\\n",
    "                + (b_successrate *(1-b_successrate))/b_size)**0.5\n",
    "conf_int = dist * std_dev_diff\n",
    "\n",
    "print(\"Confidence Interval: %.3f\\n\" % conf_int)\n",
    "print(\"True proportion difference is between %.2f%% and %.2f%%.\" \\\n",
    "      % ((prop_diff - conf_int)*100, (prop_diff + conf_int)*100))\n"
   ]
  },
  {
   "cell_type": "code",
   "execution_count": 26,
   "metadata": {},
   "outputs": [
    {
     "name": "stdout",
     "output_type": "stream",
     "text": [
      "P-value: 0.00000\n",
      "\n",
      "P-Value larger than alpha? False\n",
      "Proportion of the segments ARE different\n"
     ]
    }
   ],
   "source": [
    "prop_diff = w_successrate - b_successrate\n",
    "\n",
    "np.random.seed(42)\n",
    "S = []\n",
    "for i in range(10000):\n",
    "    rand_ind = np.random.randint(0, len(data), len(data))\n",
    "    perm_data = data[\"call\"].iloc[rand_ind]\n",
    "    perm_w = perm_data[:len(w)]\n",
    "    perm_b = perm_data[len(b):]\n",
    "    perm_w_mean = np.mean(perm_w)\n",
    "    perm_b_mean = np.mean(perm_b)\n",
    "    S.append(perm_w_mean - perm_b_mean)\n",
    "S = np.array(S)\n",
    "\n",
    "p = np.sum(S >= prop_diff)/10000\n",
    "print(\"P-value: %.5f\\n\" % p)\n",
    "print(\"P-Value larger than alpha? %s\" % str(p > alpha))\n",
    "if p > alpha:\n",
    "    print(\"Proportion of the segments are NOT different\")\n",
    "else:\n",
    "    print(\"Proportion of the segments ARE different\")"
   ]
  },
  {
   "cell_type": "code",
   "execution_count": 27,
   "metadata": {},
   "outputs": [
    {
     "name": "stdout",
     "output_type": "stream",
     "text": [
      "Confidence Interval: 0.015\n",
      "\n",
      "True proportion difference is between 1.64% and 4.72%.\n"
     ]
    }
   ],
   "source": [
    "#95% Confidence interval\n",
    "\n",
    "conf_int = np.percentile(S, [2.5, 97.5])\n",
    "\n",
    "print(\"Confidence Interval: %.3f\\n\" % conf_int[1])\n",
    "print(\"True proportion difference is between %.2f%% and %.2f%%.\" \\\n",
    "      % ((prop_diff + conf_int[0])*100, (prop_diff + conf_int[1])*100))"
   ]
  },
  {
   "cell_type": "markdown",
   "metadata": {},
   "source": [
    "4. Write a story describing the statistical significance in the context or the original problem.\n",
    "The person with white-sounding names have the probability of 9.65% to get the call. Whereas, with black-sounding names, the probability is only 6.45%. The difference in the mean is 3.2% which is quite significant. In the 10,000 trials we performed assuming our null hypotheises is true, we didnot got any reading that was that high. So our test shows us that their is a discrimination in the process. Our random sampling proofs the racial bias.\n",
    "\n",
    "5. Does your analysis mean that race/name is the most important factor in callback success? Why or why not? If not, how would you amend your analysis?\n",
    "As I test the difference between the other segments of the data it appears to be random. It further inhance our result that their is a discrimination in the hiring process. The person with white sounding name are more likely to get a callback."
   ]
  },
  {
   "cell_type": "code",
   "execution_count": 28,
   "metadata": {},
   "outputs": [
    {
     "name": "stdout",
     "output_type": "stream",
     "text": [
      "Difference in `honors`: 0.29%\n",
      "Difference in `education`: 0.49%\n",
      "Difference in `experience`: 2.67%\n",
      "Difference in `volunteer`: -0.57%\n",
      "Difference in `occupspecific`: -221.44%\n"
     ]
    }
   ],
   "source": [
    "honors = np.mean(w[\"honors\"]) - np.mean(b[\"honors\"])\n",
    "education = np.mean(w[\"education\"]) - np.mean(b[\"education\"])\n",
    "experience = np.mean(w[\"yearsexp\"]) - np.mean(b[\"yearsexp\"])\n",
    "volunteer = np.mean(w[\"volunteer\"]) - np.mean(b[\"volunteer\"])\n",
    "occupspecific = np.mean(w[\"occupspecific\"]) - np.mean(b[\"occupspecific\"])\n",
    "\n",
    "print(\"Difference in `honors`: %.2f%%\" \\\n",
    "      % (honors*100))\n",
    "print(\"Difference in `education`: %.2f%%\" \\\n",
    "      % (education*100))\n",
    "print(\"Difference in `experience`: %.2f%%\" \\\n",
    "      % (experience*100))\n",
    "print(\"Difference in `volunteer`: %.2f%%\" \\\n",
    "      % (volunteer*100))\n",
    "print(\"Difference in `occupspecific`: %.2f%%\" \\\n",
    "      % (occupspecific*100))"
   ]
  },
  {
   "cell_type": "code",
   "execution_count": null,
   "metadata": {},
   "outputs": [],
   "source": []
  }
 ],
 "metadata": {
  "kernelspec": {
   "display_name": "Python 3",
   "language": "python",
   "name": "python3"
  },
  "language_info": {
   "codemirror_mode": {
    "name": "ipython",
    "version": 3
   },
   "file_extension": ".py",
   "mimetype": "text/x-python",
   "name": "python",
   "nbconvert_exporter": "python",
   "pygments_lexer": "ipython3",
   "version": "3.7.3"
  }
 },
 "nbformat": 4,
 "nbformat_minor": 1
}
